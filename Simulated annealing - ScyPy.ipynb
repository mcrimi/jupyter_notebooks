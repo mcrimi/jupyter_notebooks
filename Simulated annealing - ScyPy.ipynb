{
 "cells": [
  {
   "cell_type": "markdown",
   "metadata": {},
   "source": [
    "# Simulated annealing using optiomize.dual_annealing\n",
    "\n",
    "The goal of simulated annealing is to maximize the performance of a model relative to a fitness function defined over the model parameters you are seeking to optimize. In Exercise 2, you will apply simulated annealing coded in scipy to a one-dimensional problem in which you seek the value of X that maximizes the output of a function called fitnessFunction. \n",
    "\n",
    "But first you must write code that implements the function, which is the product of m and n: \n",
    "\n",
    "\n",
    "$m = 1+ \\cos(0.04v)^2$\n",
    "\n",
    "$n = e ^ (−v2/(20000))$\n"
   ]
  },
  {
   "cell_type": "markdown",
   "metadata": {},
   "source": [
    "Run the algorithm with an initial X value of 250 and an initial temperature of 10.\n",
    "Plot the trajectory of the annealing algorithm along the fitness surface, Include the\n",
    "graph in your lab report."
   ]
  },
  {
   "cell_type": "code",
   "execution_count": 94,
   "metadata": {},
   "outputs": [
    {
     "name": "stdout",
     "output_type": "stream",
     "text": [
      "global minimum: xmin = [2.07497806e-07], f(xmin) = -2.000000\n"
     ]
    },
    {
     "name": "stderr",
     "output_type": "stream",
     "text": [
      "C:\\Users\\MCRIMI\\AppData\\Local\\Continuum\\anaconda3\\lib\\site-packages\\ipykernel_launcher.py:28: MatplotlibDeprecationWarning: Adding an axes using the same arguments as a previous axes currently reuses the earlier instance.  In a future version, a new instance will always be created and returned.  Meanwhile, this warning can be suppressed, and the future behavior ensured, by passing a unique label to each axes instance.\n"
     ]
    },
    {
     "data": {
      "text/plain": [
       "[<matplotlib.lines.Line2D at 0x253c1e430c8>]"
      ]
     },
     "execution_count": 94,
     "metadata": {},
     "output_type": "execute_result"
    },
    {
     "data": {
      "image/png": "[encoded data removed]",
      "text/plain": [
       "<Figure size 432x288 with 1 Axes>"
      ]
     },
     "metadata": {
      "needs_background": "light"
     },
     "output_type": "display_data"
    }
   ],
   "source": [
    "from scipy.optimize import dual_annealing\n",
    "import math  \n",
    "import numpy as np\n",
    "import matplotlib.pyplot as plt\n",
    "\n",
    "        \n",
    "states=np.array([])\n",
    "costs=np.array([])\n",
    "\n",
    "def fitnessFunction(x):\n",
    "    #Invert the function to transform into a minimization problem\n",
    "    return -(1+math.cos (0.04 * x)**2) * (math.exp(-x**2/20000))\n",
    "\n",
    "def callback(x, f, context):\n",
    "    global states,costs\n",
    "    #print (x)\n",
    "    states= np.append(states,x)\n",
    "    costs= np.append(costs,f)\n",
    "        \n",
    "lw = np.array([-500])\n",
    "up = np.array([500])\n",
    "ret = dual_annealing(fitnessFunction, bounds=list(zip(lw, up)),initial_temp=10, x0=np.array([250]) ,callback=callback, no_local_search=True)\n",
    "print(\"global minimum: xmin = {0}, f(xmin) = {1:.6f}\".format(ret.x, ret.fun))\n",
    "\n",
    "rr = np.arange(lw, up, 1)\n",
    "vfitnessFunction = np.vectorize(fitnessFunction)\n",
    "x = plt.plot(rr, vfitnessFunction(rr))\n",
    "ax = plt.subplot(1, 1,1)\n",
    "ax.plot(states,costs, \"r+\")\n",
    "ax.plot(ret.x,ret.fun, \"ro\")"
   ]
  },
  {
   "cell_type": "code",
   "execution_count": 95,
   "metadata": {},
   "outputs": [
    {
     "data": {
      "image/png": "[encoded data removed]",
      "text/plain": [
       "<Figure size 432x288 with 2 Axes>"
      ]
     },
     "metadata": {
      "needs_background": "light"
     },
     "output_type": "display_data"
    }
   ],
   "source": [
    "def see_annealing(states, costs):\n",
    "    plt.figure()\n",
    "    plt.suptitle(\"Evolution of states and costs of the simulated annealing\")\n",
    "    plt.subplot(121)\n",
    "    plt.plot(states, 'r')\n",
    "    plt.title(\"States\")\n",
    "    plt.subplot(122)\n",
    "    plt.plot(costs, 'b')\n",
    "    plt.title(\"Costs\")\n",
    "    plt.show()\n",
    "    \n",
    "see_annealing(states,costs)"
   ]
  },
  {
   "cell_type": "markdown",
   "metadata": {},
   "source": [
    "Slowly increase the temperature until you find the peak about 90% of the time.\n",
    "Report this temperature and explain its significance in terms of the relationship\n",
    "between the search radius and the dimensions of the width of the fitness curve."
   ]
  },
  {
   "cell_type": "code",
   "execution_count": 89,
   "metadata": {},
   "outputs": [
    {
     "name": "stdout",
     "output_type": "stream",
     "text": [
      "Initial T = 1 -Final T = 7.1 - Iterations per temperature = 10 - Global minima found (%): 0.9 - j: 62\n"
     ]
    }
   ],
   "source": [
    "alg_iterations=10\n",
    "g_iterations=1000\n",
    "start_temp=10\n",
    "j=0\n",
    "success_rate=0\n",
    "start_temp=1\n",
    "step_temp=0.1\n",
    "\n",
    "while success_rate < 0.9 and j < g_iterations:\n",
    "    g_min_found=0\n",
    "    success_rate=0\n",
    "    states=np.array([])\n",
    "    costs=np.array([])\n",
    "    for i in range(1,alg_iterations):\n",
    "        ret = dual_annealing(fitnessFunction, bounds=list(zip(lw, up)),initial_temp=start_temp, x0=np.array([250]),callback=callback, no_local_search=True)\n",
    "        if ret.fun == -2: #global minimum has been found\n",
    "            g_min_found= g_min_found + 1\n",
    "    success_rate= g_min_found/alg_iterations     \n",
    "    start_temp= start_temp + step_temp\n",
    "    j=j+1\n",
    "\n",
    "print(\"Initial T = 1 - Final T = {:.3g} - Iterations per temperature = {:.3g} - Global minima found (%): {:.3g} - j: {:.3g}\".format((start_temp-step_temp), alg_iterations,success_rate,j))\n"
   ]
  },
  {
   "cell_type": "markdown",
   "metadata": {},
   "source": [
    "## Conclusion\n",
    "Higher values of temperature to facilitates a wider search of the energy landscape at the begining (the material is more maleable to use the annealing terminology), allowing the optiomization to escape local minima that might be trapped in."
   ]
  }
 ],
 "metadata": {
  "kernelspec": {
   "display_name": "Python 3",
   "language": "python",
   "name": "python3"
  },
  "language_info": {
   "codemirror_mode": {
    "name": "ipython",
    "version": 3
   },
   "file_extension": ".py",
   "mimetype": "text/x-python",
   "name": "python",
   "nbconvert_exporter": "python",
   "pygments_lexer": "ipython3",
   "version": "3.7.4"
  }
 },
 "nbformat": 4,
 "nbformat_minor": 2
}
